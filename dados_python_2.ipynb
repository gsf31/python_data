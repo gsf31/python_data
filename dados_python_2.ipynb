{
  "nbformat": 4,
  "nbformat_minor": 0,
  "metadata": {
    "colab": {
      "provenance": [],
      "toc_visible": true,
      "authorship_tag": "ABX9TyPIuoqnMyMgG2pM+UP7QIdZ",
      "include_colab_link": true
    },
    "kernelspec": {
      "name": "python3",
      "display_name": "Python 3"
    },
    "language_info": {
      "name": "python"
    }
  },
  "cells": [
    {
      "cell_type": "markdown",
      "metadata": {
        "id": "view-in-github",
        "colab_type": "text"
      },
      "source": [
        "<a href=\"https://colab.research.google.com/github/gsf31/python_data/blob/main/dados_python_2.ipynb\" target=\"_parent\"><img src=\"https://colab.research.google.com/assets/colab-badge.svg\" alt=\"Open In Colab\"/></a>"
      ]
    },
    {
      "cell_type": "code",
      "execution_count": null,
      "metadata": {
        "colab": {
          "base_uri": "https://localhost:8080/"
        },
        "id": "o4AZDOGiaKfU",
        "outputId": "15169845-7cbf-42a6-fda8-364d14b632c8"
      },
      "outputs": [
        {
          "output_type": "stream",
          "name": "stdout",
          "text": [
            "Intervalo de confianca:  (36.626241804470595, 69.57375819552941)\n"
          ]
        }
      ],
      "source": [
        "#intervalo de confianca para a media\n",
        "import numpy as np\n",
        "from scipy.stats import t\n",
        "\n",
        "data = np.array([23,45,67,32,56,78,90,54,21,65])\n",
        "confidence_level = 0.95\n",
        "\n",
        "sample_mean = np.mean(data)\n",
        "sample_std = np.std(data,ddof=1)\n",
        "sample_size = len(data)\n",
        "\n",
        "t_value = t.ppf((1+confidence_level)/2, df=sample_size -1)\n",
        "margin_of_error = t_value * (sample_std / np.sqrt(sample_size))\n",
        "\n",
        "confidence_interval = (sample_mean - margin_of_error, sample_mean + margin_of_error)\n",
        "\n",
        "\n",
        "print(\"Intervalo de confianca: \", confidence_interval)\n",
        "\n"
      ]
    },
    {
      "cell_type": "code",
      "source": [
        "#teste t para duas amostras independentes\n",
        "\n",
        "from scipy.stats import ttest_ind\n",
        "import numpy as np\n",
        "\n",
        "group_1 = np.array([68,24,70,25,26])\n",
        "group_2 = np.array([23,69,71,72,27])\n",
        "\n",
        "print(group_1.mean())\n",
        "print(group_2.mean())\n",
        "\n",
        "t_statistic, p_value = ttest_ind(group_1, group_2)\n",
        "\n",
        "print(\"Estatistica t: \", t_statistic)\n",
        "print(\"valor p\", p_value) #a hipotese que nao ha diferenca  entre as medias das amostras\n",
        "print(\"0.05 e uma significancia pre-definida\")"
      ],
      "metadata": {
        "colab": {
          "base_uri": "https://localhost:8080/"
        },
        "id": "g6mrJC0_dLzx",
        "outputId": "ca483d32-af9c-4d49-d024-a45d541a5f96"
      },
      "execution_count": null,
      "outputs": [
        {
          "output_type": "stream",
          "name": "stdout",
          "text": [
            "42.6\n",
            "52.4\n",
            "Estatistica t:  -0.6298117272874847\n",
            "valor p 0.5463804204644118\n"
          ]
        }
      ]
    },
    {
      "cell_type": "markdown",
      "source": [
        "#Teste T Student para amostras pareadas (teste t pareado)\n",
        "  * uso: quando se deseja comparar as médias de duas amostras relacionadas;\n",
        "  * é apropriado quando as observações em uma amostra estão de alguma forma ligadas ou quando as mesmas unidades são medidas duas vezes em diferentes condições;\n",
        "\n",
        "#Utilização\n",
        "  * **medições repetidas** em condições diferentes;\n",
        "   * desejamos saber se há uma diferença significativa entre essas duas medições;\n",
        "  * **emparelhamento natural**: via comparação das amostras;\n",
        "  * **redução de variabilidade**: para comprovar a redução da variação entre as duas amostras;\n",
        "\n",
        "#Diferença do teste t student e o test t:\n",
        "\n",
        "* estatística t;\n",
        "* valor p => (valor para baixo indica que há uma diferença significativa entre as médias das amostras);\n",
        "* aqui ha uma correlacao entre as amostras (amostras são relacionadas);\n",
        "* variabilidade no tempo;\n",
        "\n",
        "\n",
        "\n"
      ],
      "metadata": {
        "id": "mSjdXjOGfZvE"
      }
    },
    {
      "cell_type": "code",
      "source": [
        "#o teste t student para amostras pareadas\n",
        "\n",
        "from scipy.stats import ttest_rel\n",
        "import numpy as np\n",
        "\n",
        "dados_antes = np.array([23,45,67,32,56])\n",
        "dados_depois = np.array([18,40,65,28,50])\n",
        "\n",
        "t_statistics, p_value = ttest_rel(dados_antes, dados_depois)\n",
        "\n",
        "print(\"media dos dados 1: \", dados_antes.mean())\n",
        "print(\"media dos dados 2: \", dados_depois.mean())\n",
        "\n",
        "print(\"Estatistica t:\", t_statistics)\n",
        "print(\"valor p: \", p_value)\n"
      ],
      "metadata": {
        "colab": {
          "base_uri": "https://localhost:8080/"
        },
        "id": "xHcAsEvcddct",
        "outputId": "6b3f3905-96e9-430a-b14e-df65135113d4"
      },
      "execution_count": null,
      "outputs": [
        {
          "output_type": "stream",
          "name": "stdout",
          "text": [
            "media dos dados 1:  44.6\n",
            "media dos dados 2:  40.2\n",
            "Estatistica t: 6.487446070815475\n",
            "valor p:  0.002910810291414731\n"
          ]
        }
      ]
    },
    {
      "cell_type": "code",
      "source": [
        "#analise de varianca\n",
        "\n",
        "from scipy.stats import f_oneway\n",
        "\n",
        "grupo1 = np.array([23,45,67,32,56])\n",
        "grupo2 = np.array([78,90,54,21,65])\n",
        "grupo3 = np.array([12,15,18,10,14])\n",
        "\n",
        "f_statistic, p_value = f_oneway(grupo1, grupo2, grupo3)\n",
        "\n",
        "print(\"Estatistica f:\", f_statistic)\n",
        "print(\"valor p: \", p_value, \"ha uma diferenca significativa entre as medias moveis.\")\n"
      ],
      "metadata": {
        "colab": {
          "base_uri": "https://localhost:8080/"
        },
        "id": "R0dFka_qi84l",
        "outputId": "48dc80d9-2e4e-4548-8a2e-2a74d0043c35"
      },
      "execution_count": null,
      "outputs": [
        {
          "output_type": "stream",
          "name": "stdout",
          "text": [
            "Estatistica f: 8.618320610687023\n",
            "valor p:  0.004781042523478503 ha uma diferenca significativa entre as medias moveis.\n"
          ]
        }
      ]
    }
  ]
}