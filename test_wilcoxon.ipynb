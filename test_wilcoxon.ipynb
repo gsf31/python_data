{
  "nbformat": 4,
  "nbformat_minor": 0,
  "metadata": {
    "colab": {
      "provenance": [],
      "authorship_tag": "ABX9TyNyWTIMCw92qqC7Mp/nq4LB",
      "include_colab_link": true
    },
    "kernelspec": {
      "name": "python3",
      "display_name": "Python 3"
    },
    "language_info": {
      "name": "python"
    }
  },
  "cells": [
    {
      "cell_type": "markdown",
      "metadata": {
        "id": "view-in-github",
        "colab_type": "text"
      },
      "source": [
        "<a href=\"https://colab.research.google.com/github/gsf31/python_data/blob/main/test_wilcoxon.ipynb\" target=\"_parent\"><img src=\"https://colab.research.google.com/assets/colab-badge.svg\" alt=\"Open In Colab\"/></a>"
      ]
    },
    {
      "cell_type": "markdown",
      "source": [
        "## soma dos postos\n",
        "* é um teste estatístico não paramétrico;\n",
        "* comparar distribuições duas amostrass independentes ou pareadas;\n",
        "## comparação de amostras independentes\n",
        "* determinar se há diferenças entre duas amostras independentes;\n",
        "* dados não normalizados;\n",
        "## Lógica\n",
        "* há uma classificação no teste para todas as observações de amostras em uma única lista;\n",
        "* cálculo da soma dos postos para uma das amostras\n",
        "* comparação com a distribuição de probabilidade pré-definida para determinar a diferença nas somas  são significativas;\n",
        "* amostras pareadas: testa as diferenças entre as observações pareadas e classifica essas diferenças.\n",
        "## Funcionamento\n",
        "* valor p: probabilidade de termos uma diferença grande entre as amostras assumindo que não há diferença reais entre elas é apropriada para dados que não seguem uma normalização.\n",
        "## comparação de amostras pareadas\n",
        "* antes\n",
        "* depois\n",
        "## Teste não paramétricos\n",
        "* não faz suposições sobre a distribuição dos dados;\n",
        "* não possuem uma distribuição normal;\n",
        "* mais flexíveis (são aplicados em uma variedade mais ampla de situações);\n",
        "* baseado em ranques;\n",
        "* não eficientes com utilização de dados normais."
      ],
      "metadata": {
        "id": "FCQKFyzNTu7l"
      }
    },
    {
      "cell_type": "code",
      "execution_count": 4,
      "metadata": {
        "colab": {
          "base_uri": "https://localhost:8080/"
        },
        "id": "yXtxwH0dTjbJ",
        "outputId": "5a10ae19-85a8-4e0b-a78b-4e64fae16415"
      },
      "outputs": [
        {
          "output_type": "stream",
          "name": "stdout",
          "text": [
            "Estatistica Wilcoxon:  0.0\n",
            "valor p:  0.0625\n"
          ]
        }
      ],
      "source": [
        "#teste não paramétricos - Wilcoxon\n",
        "\n",
        "import numpy as np\n",
        "from scipy.stats import wilcoxon\n",
        "\n",
        "dados_antes = np.array([23, 45, 67, 32, 56])\n",
        "dados_depois = np.array([18, 40, 65, 28, 50])\n",
        "\n",
        "statistic_w, p_value = wilcoxon(dados_antes, dados_depois)\n",
        "\n",
        "print(\"Estatistica Wilcoxon: \", statistic_w)\n",
        "print(\"valor p: \", p_value)\n"
      ]
    }
  ]
}