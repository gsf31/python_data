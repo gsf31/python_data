{
  "nbformat": 4,
  "nbformat_minor": 0,
  "metadata": {
    "colab": {
      "provenance": [],
      "authorship_tag": "ABX9TyP81VZCwrGrU0xWH3BL7g05",
      "include_colab_link": true
    },
    "kernelspec": {
      "name": "python3",
      "display_name": "Python 3"
    },
    "language_info": {
      "name": "python"
    }
  },
  "cells": [
    {
      "cell_type": "markdown",
      "metadata": {
        "id": "view-in-github",
        "colab_type": "text"
      },
      "source": [
        "<a href=\"https://colab.research.google.com/github/gsf31/python_data/blob/main/pearson_spearman.ipynb\" target=\"_parent\"><img src=\"https://colab.research.google.com/assets/colab-badge.svg\" alt=\"Open In Colab\"/></a>"
      ]
    },
    {
      "cell_type": "code",
      "execution_count": null,
      "metadata": {
        "id": "Hsht5iw2s_EY"
      },
      "outputs": [],
      "source": [
        "import numpy as np\n",
        "from scipy.stats import pearsonr\n",
        "\n",
        "x = np.array([2,3,5,7,10,12])\n",
        "y = np.array([4,5,7,8,11,13])\n",
        "\n",
        "correlacao, valor_p = pearsonr(x,y)\n",
        "\n",
        "print(\"Coeficiente de correlacao de Pearson: \", correlacao)\n",
        "print(\"valor p: \", valor_p)\n",
        "\n"
      ]
    },
    {
      "cell_type": "markdown",
      "source": [
        "#Correlacao Positiva:\n",
        "* Um coeficiente proximo de +1 sugure forte relacao positiva, onde um aumento em uma variavel esta associado a um aumento proporcional na outra\n",
        "* Um coeficiente positivo menor indica uma relacao positiva mais fraca\n",
        "#Correlacao Negativa'\n",
        "* Um coeficiente proximo de -1 sugure forte relacao negativa, onde o aumento em uma variavel esta associado a diminuicao proporcional na outra\n",
        "* Um coeficiente negativo menor indica uma relacao negativa mais fraca."
      ],
      "metadata": {
        "id": "cjIbLyCxtYUh"
      }
    },
    {
      "cell_type": "code",
      "source": [
        "import numpy as np\n",
        "from scipy.stats import spearmanr\n",
        "\n",
        "x = np.array([2,3,5,7,10,12])\n",
        "y = np.array([4,5,7,8,11,13])\n",
        "\n",
        "correlacao, valor_p = spearmanr(x,y)\n",
        "\n",
        "print(\"Coeficiente de correlacao de Pearson: \", correlacao)\n"
      ],
      "metadata": {
        "colab": {
          "base_uri": "https://localhost:8080/"
        },
        "id": "RiUuenVxtC9P",
        "outputId": "c969e645-8f9d-4376-9b26-304dbf3ac3bc"
      },
      "execution_count": 2,
      "outputs": [
        {
          "output_type": "stream",
          "name": "stdout",
          "text": [
            "Coeficiente de correlacao de Pearson:  1.0\n"
          ]
        }
      ]
    }
  ]
}