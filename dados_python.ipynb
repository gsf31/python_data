{
  "nbformat": 4,
  "nbformat_minor": 0,
  "metadata": {
    "colab": {
      "provenance": [],
      "toc_visible": true,
      "authorship_tag": "ABX9TyOWHLc1M9j2MljTkymwsc+R",
      "include_colab_link": true
    },
    "kernelspec": {
      "name": "python3",
      "display_name": "Python 3"
    },
    "language_info": {
      "name": "python"
    }
  },
  "cells": [
    {
      "cell_type": "markdown",
      "metadata": {
        "id": "view-in-github",
        "colab_type": "text"
      },
      "source": [
        "<a href=\"https://colab.research.google.com/github/gsf31/python_data/blob/main/dados_python.ipynb\" target=\"_parent\"><img src=\"https://colab.research.google.com/assets/colab-badge.svg\" alt=\"Open In Colab\"/></a>"
      ]
    },
    {
      "cell_type": "code",
      "execution_count": null,
      "metadata": {
        "colab": {
          "base_uri": "https://localhost:8080/",
          "height": 557
        },
        "id": "MxMs_oysR9SI",
        "outputId": "6cb1c96f-74fb-4ab8-9afc-dfb3aeca1461"
      },
      "outputs": [
        {
          "output_type": "stream",
          "name": "stdout",
          "text": [
            "Estatistica t:  6.487446070815475\n",
            "Valor p:  0.002910810291414731\n"
          ]
        },
        {
          "output_type": "display_data",
          "data": {
            "text/plain": [
              "<Figure size 800x600 with 1 Axes>"
            ],
            "image/png": "[encoded data removed]"
          },
          "metadata": {}
        }
      ],
      "source": [
        "from scipy.stats import ttest_rel\n",
        "import numpy as np\n",
        "import matplotlib.pyplot as plt\n",
        "\n",
        "dados_antes = np.array([23,45,67,32,56])\n",
        "dados_depois = np.array([18,40,65,28,50])\n",
        "\n",
        "t_statistics, p_value = ttest_rel(dados_antes, dados_depois)\n",
        "\n",
        "print('Estatistica t: ', t_statistics)\n",
        "print('Valor p: ', p_value)\n",
        "\n",
        "plt.figure(figsize = (8,6))\n",
        "plt.bar(['Antes','Depois'],[np.mean(dados_antes), np.mean(dados_depois)])\n",
        "plt.show()"
      ]
    },
    {
      "cell_type": "code",
      "source": [
        "#comparando o teste de glicemia de dois grupos de pessoas\n",
        "\n",
        "import numpy as np\n",
        "from scipy.stats import ttest_ind\n",
        "\n",
        "#dados de glicemia de homens e mulheres\n",
        "glucose_men =   np.array([120,130,125,118,200,122,128,130,140,129])\n",
        "glucose_woman = np.array([85,92,87,81,98,88,83,86,91,89])\n",
        "\n",
        "#fazer o teste t para amostras indenpendentes\n",
        "\n",
        "t_statistic, p_value = ttest_ind(glucose_men, glucose_woman)\n",
        "\n",
        "print(\"estatistica t: \", t_statistic)\n",
        "print(\"valor p: \", p_value)\n",
        "\n",
        "#nivel de significancia\n",
        "alfa = 0.05\n",
        "if p_value < alfa:\n",
        "  print(\"ha evidencias de uma diferenca grande nos niveis de glicemia entre homens e mulheres. \")\n",
        "else:\n",
        "  print(\"muito provavelmente nao ha evidencias suficientes para afirmar que ha diferencas significativas nos niveis de glicemia entre homens e mulheres. \")"
      ],
      "metadata": {
        "colab": {
          "base_uri": "https://localhost:8080/"
        },
        "id": "bk4-JYjyVB-L",
        "outputId": "a04e9707-c3e1-4650-e155-1004071b2316"
      },
      "execution_count": null,
      "outputs": [
        {
          "output_type": "stream",
          "name": "stdout",
          "text": [
            "estatistica t:  5.977915304622528\n",
            "valor p:  1.1791788324615346e-05\n",
            "ha evidencias de uma diferenca grande nos niveis de glicemia entre homens e mulheres. \n"
          ]
        }
      ]
    },
    {
      "cell_type": "markdown",
      "source": [
        "#intervalo de confiança\n",
        "* é uma faixa de valores em torno da média de uma amostra\n",
        "calculado para dar uma estimativa da faixa da verdadeira média populacional\n",
        "\n",
        "#amostra\n",
        "* uma estimativa (conjunto de dados exemplo) da média populacional\n",
        "\n",
        "#estimativa média populacional = 0.95\n",
        "\n",
        "#teste T\n",
        "* duas amostras independentes\n",
        "* comprova se há uma diferença significativa entre as médias de duas amostras independentes;\n",
        "* valor da estatistica t: diz sobre a magnitude da diferença em relação à variabilidade dentro das amostras;\n",
        "* valor p: probabilidade de obtermos uma diferença tão grande entre a média das amostras\n",
        "* se o valor p é\n",
        "  * abaixo do nível de significância (0.05) concluí-se que há uma diferença significativa entre as médias móveis;\n",
        "  * caso contrário não se comprova essa diferença significativa;"
      ],
      "metadata": {
        "id": "dB2UqyiNXkxk"
      }
    },
    {
      "cell_type": "code",
      "source": [
        "import numpy as np\n",
        "from scipy.stats import t\n",
        "\n",
        "data = np.array([23,45,67,32,56,78,90,54,21,65])\n",
        "confidence_level = 0.95\n",
        "\n",
        "sample_mean = np.mean(data)\n",
        "\n",
        "print(sample_mean)\n",
        "\n"
      ],
      "metadata": {
        "colab": {
          "base_uri": "https://localhost:8080/"
        },
        "id": "u02axZ2wXTQw",
        "outputId": "7380d3f7-6d06-4ff7-c27d-ec89f052aff4"
      },
      "execution_count": null,
      "outputs": [
        {
          "output_type": "stream",
          "name": "stdout",
          "text": [
            "53.1\n"
          ]
        }
      ]
    }
  ]
}